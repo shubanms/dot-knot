{
 "cells": [
  {
   "cell_type": "code",
   "execution_count": 1,
   "metadata": {},
   "outputs": [],
   "source": [
    "from functions import *\n",
    "import random"
   ]
  },
  {
   "cell_type": "code",
   "execution_count": 2,
   "metadata": {},
   "outputs": [],
   "source": [
    "rows = random.randint(5,15)\n",
    "columns = random.randint(5,15)\n",
    "dots = random.randint(1,3)\n",
    "# grid = [[]*rows]*columns"
   ]
  },
  {
   "cell_type": "code",
   "execution_count": 3,
   "metadata": {},
   "outputs": [
    {
     "name": "stdout",
     "output_type": "stream",
     "text": [
      "11 5 1\n"
     ]
    }
   ],
   "source": [
    "print(rows , columns , dots)"
   ]
  },
  {
   "cell_type": "code",
   "execution_count": 4,
   "metadata": {},
   "outputs": [],
   "source": [
    "func = gridFunc(rows , columns , dots)"
   ]
  },
  {
   "cell_type": "code",
   "execution_count": 5,
   "metadata": {},
   "outputs": [],
   "source": [
    "# print(func.generate_blank_gird(rows , columns , 0))\n",
    "\n",
    "grid = func.generate_blank_gird(rows , columns , 0)"
   ]
  },
  {
   "cell_type": "code",
   "execution_count": 6,
   "metadata": {},
   "outputs": [
    {
     "name": "stdout",
     "output_type": "stream",
     "text": [
      "    0  1  2  3  4\n",
      "0   0  0  0  0  0\n",
      "1   0  0  0  0  0\n",
      "2   0  0  0  0  0\n",
      "3   0  0  0  0  0\n",
      "4   0  0  0  0  0\n",
      "5   0  0  0  0  0\n",
      "6   0  0  0  0  0\n",
      "7   0  0  0  0  0\n",
      "8   0  0  0  0  0\n",
      "9   0  0  0  0  0\n",
      "10  0  0  0  0  0\n"
     ]
    }
   ],
   "source": [
    "func.print_grid_dataframe(grid)"
   ]
  },
  {
   "cell_type": "code",
   "execution_count": 7,
   "metadata": {},
   "outputs": [],
   "source": [
    "place_holder = 1"
   ]
  },
  {
   "cell_type": "code",
   "execution_count": 8,
   "metadata": {},
   "outputs": [],
   "source": [
    "dot_locations = func.generate_dots_positions()"
   ]
  },
  {
   "cell_type": "code",
   "execution_count": 9,
   "metadata": {},
   "outputs": [
    {
     "name": "stdout",
     "output_type": "stream",
     "text": [
      "[[1, 3], [3, 1]]\n"
     ]
    }
   ],
   "source": [
    "print(dot_locations)"
   ]
  },
  {
   "cell_type": "code",
   "execution_count": 10,
   "metadata": {},
   "outputs": [],
   "source": [
    "dot_locations = func.group_dots(dot_locations)"
   ]
  },
  {
   "cell_type": "code",
   "execution_count": 11,
   "metadata": {},
   "outputs": [
    {
     "name": "stdout",
     "output_type": "stream",
     "text": [
      "[[1, 3, 3, 1]]\n"
     ]
    }
   ],
   "source": [
    "print(dot_locations)"
   ]
  },
  {
   "cell_type": "code",
   "execution_count": 12,
   "metadata": {},
   "outputs": [],
   "source": [
    "for i in range(len(dot_locations)):\n",
    "    grid = func.place_dot(grid , dot_locations[i][0] , dot_locations[i][1] , i+1)\n",
    "    grid = func.place_dot(grid , dot_locations[i][2] , dot_locations[i][3] , i+1)"
   ]
  },
  {
   "cell_type": "code",
   "execution_count": 13,
   "metadata": {},
   "outputs": [
    {
     "name": "stdout",
     "output_type": "stream",
     "text": [
      "    0  1  2  3  4\n",
      "0   0  0  0  0  0\n",
      "1   0  0  0  1  0\n",
      "2   0  0  0  0  0\n",
      "3   0  1  0  0  0\n",
      "4   0  0  0  0  0\n",
      "5   0  0  0  0  0\n",
      "6   0  0  0  0  0\n",
      "7   0  0  0  0  0\n",
      "8   0  0  0  0  0\n",
      "9   0  0  0  0  0\n",
      "10  0  0  0  0  0\n"
     ]
    }
   ],
   "source": [
    "func.print_grid_dataframe(grid)"
   ]
  }
 ],
 "metadata": {
  "kernelspec": {
   "display_name": "Python 3",
   "language": "python",
   "name": "python3"
  },
  "language_info": {
   "codemirror_mode": {
    "name": "ipython",
    "version": 3
   },
   "file_extension": ".py",
   "mimetype": "text/x-python",
   "name": "python",
   "nbconvert_exporter": "python",
   "pygments_lexer": "ipython3",
   "version": "3.11.1"
  },
  "orig_nbformat": 4,
  "vscode": {
   "interpreter": {
    "hash": "ebfc0a8d552866b0d59eba665220a57de3bc06f3ac643b8bef38dd8f66781fdd"
   }
  }
 },
 "nbformat": 4,
 "nbformat_minor": 2
}
